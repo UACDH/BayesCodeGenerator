{
 "cells": [
  {
   "cell_type": "code",
   "execution_count": 1,
   "id": "905f5aca",
   "metadata": {},
   "outputs": [],
   "source": [
    "import openai\n",
    "import json\n",
    "from dotenv import load_dotenv\n",
    "import os"
   ]
  },
  {
   "cell_type": "code",
   "execution_count": 2,
   "id": "67c5d667",
   "metadata": {},
   "outputs": [],
   "source": [
    "load_dotenv()\n",
    "openai.api_key = os.getenv(\"KEY\")"
   ]
  },
  {
   "cell_type": "code",
   "execution_count": 3,
   "id": "9709389c",
   "metadata": {},
   "outputs": [],
   "source": [
    "prompt = \"Generate an HTML file with an HTML form that takes inputs for Bayes' Theorem,\"\n",
    "prompt += \" and JavaScript to calculate the results of the inputs, where Bayes' says that\"\n",
    "prompt += \" P(B|A) = P(A|B)P(B) / P(A). The inputs should be P(A), P(B) and P(A|B) as\"\n",
    "prompt += \" decimal values, and the output should be P(B|A).\""
   ]
  },
  {
   "cell_type": "code",
   "execution_count": 4,
   "id": "6db9a7a7",
   "metadata": {},
   "outputs": [],
   "source": [
    "response = openai.Completion.create(\n",
    "    engine=\"text-davinci-002\",\n",
    "    prompt=prompt,\n",
    "    max_tokens=1024,\n",
    "    n=1,\n",
    "    stop=None,\n",
    "    temperature=0.5,\n",
    ")"
   ]
  },
  {
   "cell_type": "code",
   "execution_count": 5,
   "id": "14f441fa",
   "metadata": {},
   "outputs": [
    {
     "name": "stdout",
     "output_type": "stream",
     "text": [
      "\n",
      "\n",
      "<!DOCTYPE html>\n",
      "<html>\n",
      "\n",
      "<head>\n",
      "    <meta charset=\"utf-8\">\n",
      "    <meta name=\"viewport\" content=\"width=device-width\">\n",
      "    <title>Bayes' Theorem</title>\n",
      "</head>\n",
      "\n",
      "<body>\n",
      "    <h1>Bayes' Theorem</h1>\n",
      "    <form>\n",
      "        <label for=\"P(A)\">P(A)</label>\n",
      "        <input type=\"text\" id=\"P(A)\" name=\"P(A)\">\n",
      "        <label for=\"P(B)\">P(B)</label>\n",
      "        <input type=\"text\" id=\"P(B)\" name=\"P(B)\">\n",
      "        <label for=\"P(A|B)\">P(A|B)</label>\n",
      "        <input type=\"text\" id=\"P(A|B)\" name=\"P(A|B)\">\n",
      "        <input type=\"button\" value=\"Calculate\" onclick=\"bayes()\">\n",
      "        <p id=\"result\"></p>\n",
      "    </form>\n",
      "\n",
      "    <script>\n",
      "        function bayes() {\n",
      "            let P_A = document.getElementById('P(A)').value;\n",
      "            let P_B = document.getElementById('P(B)').value;\n",
      "            let P_A_given_B = document.getElementById('P(A|B)').value;\n",
      "            let result = P_A_given_B * P_B / P_A;\n",
      "            document.getElementById('result').innerHTML = result;\n",
      "        }\n",
      "    </script>\n",
      "</body>\n",
      "\n",
      "</html>\n"
     ]
    }
   ],
   "source": [
    "form_text = response.choices[0].text\n",
    "print(form_text)"
   ]
  }
 ],
 "metadata": {
  "kernelspec": {
   "display_name": "Python 3 (ipykernel)",
   "language": "python",
   "name": "python3"
  },
  "language_info": {
   "codemirror_mode": {
    "name": "ipython",
    "version": 3
   },
   "file_extension": ".py",
   "mimetype": "text/x-python",
   "name": "python",
   "nbconvert_exporter": "python",
   "pygments_lexer": "ipython3",
   "version": "3.10.6"
  }
 },
 "nbformat": 4,
 "nbformat_minor": 5
}
